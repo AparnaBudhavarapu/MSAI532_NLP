{
 "cells": [
  {
   "cell_type": "code",
   "execution_count": null,
   "metadata": {},
   "outputs": [],
   "source": [
    "#Tutorial\n",
    "#https://realpython.com/nltk-nlp-python/#getting-text-to-analyze"
   ]
  },
  {
   "cell_type": "code",
   "execution_count": 12,
   "metadata": {},
   "outputs": [
    {
     "name": "stderr",
     "output_type": "stream",
     "text": [
      "[nltk_data] Downloading package punkt to\n",
      "[nltk_data]     C:\\Users\\Aparna\\AppData\\Roaming\\nltk_data...\n",
      "[nltk_data]   Package punkt is already up-to-date!\n"
     ]
    },
    {
     "data": {
      "text/plain": [
       "True"
      ]
     },
     "execution_count": 12,
     "metadata": {},
     "output_type": "execute_result"
    }
   ],
   "source": [
    "#Tokenizing\n",
    "import nltk\n",
    "nltk.download('punkt')"
   ]
  },
  {
   "cell_type": "code",
   "execution_count": 6,
   "metadata": {},
   "outputs": [],
   "source": [
    "from nltk.tokenize import sent_tokenize, word_tokenize"
   ]
  },
  {
   "cell_type": "code",
   "execution_count": 9,
   "metadata": {},
   "outputs": [],
   "source": [
    "example_string = \"\"\"Muad'Dib learned rapidly because his first training was in how to learn.\n",
    "... And the first lesson of all was the basic trust that he could learn.\n",
    "... It's shocking to find how many people do not believe they can learn,\n",
    "... and how many more believe learning to be difficult.\"\"\""
   ]
  },
  {
   "cell_type": "code",
   "execution_count": 10,
   "metadata": {},
   "outputs": [
    {
     "data": {
      "text/plain": [
       "[\"Muad'Dib learned rapidly because his first training was in how to learn.\",\n",
       " 'And the first lesson of all was the basic trust that he could learn.',\n",
       " \"It's shocking to find how many people do not believe they can learn,\\nand how many more believe learning to be difficult.\"]"
      ]
     },
     "execution_count": 10,
     "metadata": {},
     "output_type": "execute_result"
    }
   ],
   "source": [
    "sent_tokenize(example_string)"
   ]
  },
  {
   "cell_type": "code",
   "execution_count": 11,
   "metadata": {},
   "outputs": [
    {
     "data": {
      "text/plain": [
       "[\"Muad'Dib\",\n",
       " 'learned',\n",
       " 'rapidly',\n",
       " 'because',\n",
       " 'his',\n",
       " 'first',\n",
       " 'training',\n",
       " 'was',\n",
       " 'in',\n",
       " 'how',\n",
       " 'to',\n",
       " 'learn',\n",
       " '.',\n",
       " 'And',\n",
       " 'the',\n",
       " 'first',\n",
       " 'lesson',\n",
       " 'of',\n",
       " 'all',\n",
       " 'was',\n",
       " 'the',\n",
       " 'basic',\n",
       " 'trust',\n",
       " 'that',\n",
       " 'he',\n",
       " 'could',\n",
       " 'learn',\n",
       " '.',\n",
       " 'It',\n",
       " \"'s\",\n",
       " 'shocking',\n",
       " 'to',\n",
       " 'find',\n",
       " 'how',\n",
       " 'many',\n",
       " 'people',\n",
       " 'do',\n",
       " 'not',\n",
       " 'believe',\n",
       " 'they',\n",
       " 'can',\n",
       " 'learn',\n",
       " ',',\n",
       " 'and',\n",
       " 'how',\n",
       " 'many',\n",
       " 'more',\n",
       " 'believe',\n",
       " 'learning',\n",
       " 'to',\n",
       " 'be',\n",
       " 'difficult',\n",
       " '.']"
      ]
     },
     "execution_count": 11,
     "metadata": {},
     "output_type": "execute_result"
    }
   ],
   "source": [
    "word_tokenize(example_string)"
   ]
  },
  {
   "cell_type": "code",
   "execution_count": 13,
   "metadata": {},
   "outputs": [
    {
     "name": "stderr",
     "output_type": "stream",
     "text": [
      "[nltk_data] Downloading package stopwords to\n",
      "[nltk_data]     C:\\Users\\Aparna\\AppData\\Roaming\\nltk_data...\n",
      "[nltk_data]   Unzipping corpora\\stopwords.zip.\n"
     ]
    }
   ],
   "source": [
    "# Filtering Stop Words\n",
    "nltk.download(\"stopwords\")\n",
    "from nltk.corpus import stopwords\n",
    "from nltk.tokenize import word_tokenize"
   ]
  },
  {
   "cell_type": "code",
   "execution_count": 14,
   "metadata": {},
   "outputs": [],
   "source": [
    "worf_quote = \"Sir, I protest. I am not a merry man!\""
   ]
  },
  {
   "cell_type": "code",
   "execution_count": 15,
   "metadata": {},
   "outputs": [
    {
     "data": {
      "text/plain": [
       "['Sir', ',', 'I', 'protest', '.', 'I', 'am', 'not', 'a', 'merry', 'man', '!']"
      ]
     },
     "execution_count": 15,
     "metadata": {},
     "output_type": "execute_result"
    }
   ],
   "source": [
    "words_in_quote = word_tokenize(worf_quote)\n",
    "words_in_quote"
   ]
  },
  {
   "cell_type": "code",
   "execution_count": 17,
   "metadata": {},
   "outputs": [
    {
     "data": {
      "text/plain": [
       "{'a',\n",
       " 'about',\n",
       " 'above',\n",
       " 'after',\n",
       " 'again',\n",
       " 'against',\n",
       " 'ain',\n",
       " 'all',\n",
       " 'am',\n",
       " 'an',\n",
       " 'and',\n",
       " 'any',\n",
       " 'are',\n",
       " 'aren',\n",
       " \"aren't\",\n",
       " 'as',\n",
       " 'at',\n",
       " 'be',\n",
       " 'because',\n",
       " 'been',\n",
       " 'before',\n",
       " 'being',\n",
       " 'below',\n",
       " 'between',\n",
       " 'both',\n",
       " 'but',\n",
       " 'by',\n",
       " 'can',\n",
       " 'couldn',\n",
       " \"couldn't\",\n",
       " 'd',\n",
       " 'did',\n",
       " 'didn',\n",
       " \"didn't\",\n",
       " 'do',\n",
       " 'does',\n",
       " 'doesn',\n",
       " \"doesn't\",\n",
       " 'doing',\n",
       " 'don',\n",
       " \"don't\",\n",
       " 'down',\n",
       " 'during',\n",
       " 'each',\n",
       " 'few',\n",
       " 'for',\n",
       " 'from',\n",
       " 'further',\n",
       " 'had',\n",
       " 'hadn',\n",
       " \"hadn't\",\n",
       " 'has',\n",
       " 'hasn',\n",
       " \"hasn't\",\n",
       " 'have',\n",
       " 'haven',\n",
       " \"haven't\",\n",
       " 'having',\n",
       " 'he',\n",
       " 'her',\n",
       " 'here',\n",
       " 'hers',\n",
       " 'herself',\n",
       " 'him',\n",
       " 'himself',\n",
       " 'his',\n",
       " 'how',\n",
       " 'i',\n",
       " 'if',\n",
       " 'in',\n",
       " 'into',\n",
       " 'is',\n",
       " 'isn',\n",
       " \"isn't\",\n",
       " 'it',\n",
       " \"it's\",\n",
       " 'its',\n",
       " 'itself',\n",
       " 'just',\n",
       " 'll',\n",
       " 'm',\n",
       " 'ma',\n",
       " 'me',\n",
       " 'mightn',\n",
       " \"mightn't\",\n",
       " 'more',\n",
       " 'most',\n",
       " 'mustn',\n",
       " \"mustn't\",\n",
       " 'my',\n",
       " 'myself',\n",
       " 'needn',\n",
       " \"needn't\",\n",
       " 'no',\n",
       " 'nor',\n",
       " 'not',\n",
       " 'now',\n",
       " 'o',\n",
       " 'of',\n",
       " 'off',\n",
       " 'on',\n",
       " 'once',\n",
       " 'only',\n",
       " 'or',\n",
       " 'other',\n",
       " 'our',\n",
       " 'ours',\n",
       " 'ourselves',\n",
       " 'out',\n",
       " 'over',\n",
       " 'own',\n",
       " 're',\n",
       " 's',\n",
       " 'same',\n",
       " 'shan',\n",
       " \"shan't\",\n",
       " 'she',\n",
       " \"she's\",\n",
       " 'should',\n",
       " \"should've\",\n",
       " 'shouldn',\n",
       " \"shouldn't\",\n",
       " 'so',\n",
       " 'some',\n",
       " 'such',\n",
       " 't',\n",
       " 'than',\n",
       " 'that',\n",
       " \"that'll\",\n",
       " 'the',\n",
       " 'their',\n",
       " 'theirs',\n",
       " 'them',\n",
       " 'themselves',\n",
       " 'then',\n",
       " 'there',\n",
       " 'these',\n",
       " 'they',\n",
       " 'this',\n",
       " 'those',\n",
       " 'through',\n",
       " 'to',\n",
       " 'too',\n",
       " 'under',\n",
       " 'until',\n",
       " 'up',\n",
       " 've',\n",
       " 'very',\n",
       " 'was',\n",
       " 'wasn',\n",
       " \"wasn't\",\n",
       " 'we',\n",
       " 'were',\n",
       " 'weren',\n",
       " \"weren't\",\n",
       " 'what',\n",
       " 'when',\n",
       " 'where',\n",
       " 'which',\n",
       " 'while',\n",
       " 'who',\n",
       " 'whom',\n",
       " 'why',\n",
       " 'will',\n",
       " 'with',\n",
       " 'won',\n",
       " \"won't\",\n",
       " 'wouldn',\n",
       " \"wouldn't\",\n",
       " 'y',\n",
       " 'you',\n",
       " \"you'd\",\n",
       " \"you'll\",\n",
       " \"you're\",\n",
       " \"you've\",\n",
       " 'your',\n",
       " 'yours',\n",
       " 'yourself',\n",
       " 'yourselves'}"
      ]
     },
     "execution_count": 17,
     "metadata": {},
     "output_type": "execute_result"
    }
   ],
   "source": [
    "stop_words = set(stopwords.words(\"english\"))\n",
    "stop_words"
   ]
  },
  {
   "cell_type": "code",
   "execution_count": 18,
   "metadata": {},
   "outputs": [
    {
     "data": {
      "text/plain": [
       "['Sir', ',', 'protest', '.', 'merry', 'man', '!']"
      ]
     },
     "execution_count": 18,
     "metadata": {},
     "output_type": "execute_result"
    }
   ],
   "source": [
    "filtered_list = []\n",
    "for word in words_in_quote:\n",
    "    if word.casefold() not in stop_words:\n",
    "        filtered_list.append(word)\n",
    "filtered_list"
   ]
  },
  {
   "cell_type": "code",
   "execution_count": 19,
   "metadata": {},
   "outputs": [
    {
     "data": {
      "text/plain": [
       "['Sir', ',', 'protest', '.', 'merry', 'man', '!']"
      ]
     },
     "execution_count": 19,
     "metadata": {},
     "output_type": "execute_result"
    }
   ],
   "source": [
    "filtered_list = [\n",
    "    word for word in words_in_quote if word.casefold() not in stop_words\n",
    "]\n",
    "filtered_list"
   ]
  },
  {
   "cell_type": "code",
   "execution_count": 20,
   "metadata": {},
   "outputs": [],
   "source": [
    "#Stemming\n",
    "from nltk.stem import PorterStemmer\n",
    "from nltk.tokenize import word_tokenize"
   ]
  },
  {
   "cell_type": "code",
   "execution_count": 26,
   "metadata": {},
   "outputs": [],
   "source": [
    "stemmer = PorterStemmer()\n",
    "string_for_stemming = \"\"\"The crew of the USS Discovery discovered many discoveries. Discovering is what explorers do.\"\"\""
   ]
  },
  {
   "cell_type": "code",
   "execution_count": 27,
   "metadata": {},
   "outputs": [],
   "source": [
    "words = word_tokenize(string_for_stemming)"
   ]
  },
  {
   "cell_type": "code",
   "execution_count": 28,
   "metadata": {},
   "outputs": [
    {
     "data": {
      "text/plain": [
       "['The',\n",
       " 'crew',\n",
       " 'of',\n",
       " 'the',\n",
       " 'USS',\n",
       " 'Discovery',\n",
       " 'discovered',\n",
       " 'many',\n",
       " 'discoveries',\n",
       " '.',\n",
       " 'Discovering',\n",
       " 'is',\n",
       " 'what',\n",
       " 'explorers',\n",
       " 'do',\n",
       " '.']"
      ]
     },
     "execution_count": 28,
     "metadata": {},
     "output_type": "execute_result"
    }
   ],
   "source": [
    "words"
   ]
  },
  {
   "cell_type": "code",
   "execution_count": 29,
   "metadata": {},
   "outputs": [],
   "source": [
    "stemmed_words = [stemmer.stem(word) for word in words]"
   ]
  },
  {
   "cell_type": "code",
   "execution_count": 30,
   "metadata": {},
   "outputs": [
    {
     "data": {
      "text/plain": [
       "['the',\n",
       " 'crew',\n",
       " 'of',\n",
       " 'the',\n",
       " 'uss',\n",
       " 'discoveri',\n",
       " 'discov',\n",
       " 'mani',\n",
       " 'discoveri',\n",
       " '.',\n",
       " 'discov',\n",
       " 'is',\n",
       " 'what',\n",
       " 'explor',\n",
       " 'do',\n",
       " '.']"
      ]
     },
     "execution_count": 30,
     "metadata": {},
     "output_type": "execute_result"
    }
   ],
   "source": [
    "stemmed_words"
   ]
  },
  {
   "cell_type": "code",
   "execution_count": 31,
   "metadata": {},
   "outputs": [],
   "source": [
    "#Tagging Parts of Speech\n",
    "from nltk.tokenize import word_tokenize\n",
    "sagan_quote = \"\"\"If you wish to make an apple pie from scratch, you must first invent the universe.\"\"\"\n",
    "words_in_sagan_quote = word_tokenize(sagan_quote)"
   ]
  },
  {
   "cell_type": "code",
   "execution_count": 32,
   "metadata": {},
   "outputs": [
    {
     "data": {
      "text/plain": [
       "['If',\n",
       " 'you',\n",
       " 'wish',\n",
       " 'to',\n",
       " 'make',\n",
       " 'an',\n",
       " 'apple',\n",
       " 'pie',\n",
       " 'from',\n",
       " 'scratch',\n",
       " ',',\n",
       " 'you',\n",
       " 'must',\n",
       " 'first',\n",
       " 'invent',\n",
       " 'the',\n",
       " 'universe',\n",
       " '.']"
      ]
     },
     "execution_count": 32,
     "metadata": {},
     "output_type": "execute_result"
    }
   ],
   "source": [
    "words_in_sagan_quote"
   ]
  },
  {
   "cell_type": "code",
   "execution_count": 34,
   "metadata": {},
   "outputs": [
    {
     "name": "stderr",
     "output_type": "stream",
     "text": [
      "[nltk_data] Downloading package averaged_perceptron_tagger to\n",
      "[nltk_data]     C:\\Users\\Aparna\\AppData\\Roaming\\nltk_data...\n",
      "[nltk_data]   Unzipping taggers\\averaged_perceptron_tagger.zip.\n"
     ]
    },
    {
     "data": {
      "text/plain": [
       "[('If', 'IN'),\n",
       " ('you', 'PRP'),\n",
       " ('wish', 'VBP'),\n",
       " ('to', 'TO'),\n",
       " ('make', 'VB'),\n",
       " ('an', 'DT'),\n",
       " ('apple', 'NN'),\n",
       " ('pie', 'NN'),\n",
       " ('from', 'IN'),\n",
       " ('scratch', 'NN'),\n",
       " (',', ','),\n",
       " ('you', 'PRP'),\n",
       " ('must', 'MD'),\n",
       " ('first', 'VB'),\n",
       " ('invent', 'VB'),\n",
       " ('the', 'DT'),\n",
       " ('universe', 'NN'),\n",
       " ('.', '.')]"
      ]
     },
     "execution_count": 34,
     "metadata": {},
     "output_type": "execute_result"
    }
   ],
   "source": [
    "import nltk\n",
    "nltk.download('averaged_perceptron_tagger')\n",
    "nltk.pos_tag(words_in_sagan_quote)"
   ]
  },
  {
   "cell_type": "code",
   "execution_count": 37,
   "metadata": {},
   "outputs": [
    {
     "name": "stdout",
     "output_type": "stream",
     "text": [
      "$: dollar\n",
      "    $ -$ --$ A$ C$ HK$ M$ NZ$ S$ U.S.$ US$\n",
      "'': closing quotation mark\n",
      "    ' ''\n",
      "(: opening parenthesis\n",
      "    ( [ {\n",
      "): closing parenthesis\n",
      "    ) ] }\n",
      ",: comma\n",
      "    ,\n",
      "--: dash\n",
      "    --\n",
      ".: sentence terminator\n",
      "    . ! ?\n",
      ":: colon or ellipsis\n",
      "    : ; ...\n",
      "CC: conjunction, coordinating\n",
      "    & 'n and both but either et for less minus neither nor or plus so\n",
      "    therefore times v. versus vs. whether yet\n",
      "CD: numeral, cardinal\n",
      "    mid-1890 nine-thirty forty-two one-tenth ten million 0.5 one forty-\n",
      "    seven 1987 twenty '79 zero two 78-degrees eighty-four IX '60s .025\n",
      "    fifteen 271,124 dozen quintillion DM2,000 ...\n",
      "DT: determiner\n",
      "    all an another any both del each either every half la many much nary\n",
      "    neither no some such that the them these this those\n",
      "EX: existential there\n",
      "    there\n",
      "FW: foreign word\n",
      "    gemeinschaft hund ich jeux habeas Haementeria Herr K'ang-si vous\n",
      "    lutihaw alai je jour objets salutaris fille quibusdam pas trop Monte\n",
      "    terram fiche oui corporis ...\n",
      "IN: preposition or conjunction, subordinating\n",
      "    astride among uppon whether out inside pro despite on by throughout\n",
      "    below within for towards near behind atop around if like until below\n",
      "    next into if beside ...\n",
      "JJ: adjective or numeral, ordinal\n",
      "    third ill-mannered pre-war regrettable oiled calamitous first separable\n",
      "    ectoplasmic battery-powered participatory fourth still-to-be-named\n",
      "    multilingual multi-disciplinary ...\n",
      "JJR: adjective, comparative\n",
      "    bleaker braver breezier briefer brighter brisker broader bumper busier\n",
      "    calmer cheaper choosier cleaner clearer closer colder commoner costlier\n",
      "    cozier creamier crunchier cuter ...\n",
      "JJS: adjective, superlative\n",
      "    calmest cheapest choicest classiest cleanest clearest closest commonest\n",
      "    corniest costliest crassest creepiest crudest cutest darkest deadliest\n",
      "    dearest deepest densest dinkiest ...\n",
      "LS: list item marker\n",
      "    A A. B B. C C. D E F First G H I J K One SP-44001 SP-44002 SP-44005\n",
      "    SP-44007 Second Third Three Two * a b c d first five four one six three\n",
      "    two\n",
      "MD: modal auxiliary\n",
      "    can cannot could couldn't dare may might must need ought shall should\n",
      "    shouldn't will would\n",
      "NN: noun, common, singular or mass\n",
      "    common-carrier cabbage knuckle-duster Casino afghan shed thermostat\n",
      "    investment slide humour falloff slick wind hyena override subhumanity\n",
      "    machinist ...\n",
      "NNP: noun, proper, singular\n",
      "    Motown Venneboerger Czestochwa Ranzer Conchita Trumplane Christos\n",
      "    Oceanside Escobar Kreisler Sawyer Cougar Yvette Ervin ODI Darryl CTCA\n",
      "    Shannon A.K.C. Meltex Liverpool ...\n",
      "NNPS: noun, proper, plural\n",
      "    Americans Americas Amharas Amityvilles Amusements Anarcho-Syndicalists\n",
      "    Andalusians Andes Andruses Angels Animals Anthony Antilles Antiques\n",
      "    Apache Apaches Apocrypha ...\n",
      "NNS: noun, common, plural\n",
      "    undergraduates scotches bric-a-brac products bodyguards facets coasts\n",
      "    divestitures storehouses designs clubs fragrances averages\n",
      "    subjectivists apprehensions muses factory-jobs ...\n",
      "PDT: pre-determiner\n",
      "    all both half many quite such sure this\n",
      "POS: genitive marker\n",
      "    ' 's\n",
      "PRP: pronoun, personal\n",
      "    hers herself him himself hisself it itself me myself one oneself ours\n",
      "    ourselves ownself self she thee theirs them themselves they thou thy us\n",
      "PRP$: pronoun, possessive\n",
      "    her his mine my our ours their thy your\n",
      "RB: adverb\n",
      "    occasionally unabatingly maddeningly adventurously professedly\n",
      "    stirringly prominently technologically magisterially predominately\n",
      "    swiftly fiscally pitilessly ...\n",
      "RBR: adverb, comparative\n",
      "    further gloomier grander graver greater grimmer harder harsher\n",
      "    healthier heavier higher however larger later leaner lengthier less-\n",
      "    perfectly lesser lonelier longer louder lower more ...\n",
      "RBS: adverb, superlative\n",
      "    best biggest bluntest earliest farthest first furthest hardest\n",
      "    heartiest highest largest least less most nearest second tightest worst\n",
      "RP: particle\n",
      "    aboard about across along apart around aside at away back before behind\n",
      "    by crop down ever fast for forth from go high i.e. in into just later\n",
      "    low more off on open out over per pie raising start teeth that through\n",
      "    under unto up up-pp upon whole with you\n",
      "SYM: symbol\n",
      "    % & ' '' ''. ) ). * + ,. < = > @ A[fj] U.S U.S.S.R * ** ***\n",
      "TO: \"to\" as preposition or infinitive marker\n",
      "    to\n",
      "UH: interjection\n",
      "    Goodbye Goody Gosh Wow Jeepers Jee-sus Hubba Hey Kee-reist Oops amen\n",
      "    huh howdy uh dammit whammo shucks heck anyways whodunnit honey golly\n",
      "    man baby diddle hush sonuvabitch ...\n",
      "VB: verb, base form\n",
      "    ask assemble assess assign assume atone attention avoid bake balkanize\n",
      "    bank begin behold believe bend benefit bevel beware bless boil bomb\n",
      "    boost brace break bring broil brush build ...\n",
      "VBD: verb, past tense\n",
      "    dipped pleaded swiped regummed soaked tidied convened halted registered\n",
      "    cushioned exacted snubbed strode aimed adopted belied figgered\n",
      "    speculated wore appreciated contemplated ...\n",
      "VBG: verb, present participle or gerund\n",
      "    telegraphing stirring focusing angering judging stalling lactating\n",
      "    hankerin' alleging veering capping approaching traveling besieging\n",
      "    encrypting interrupting erasing wincing ...\n",
      "VBN: verb, past participle\n",
      "    multihulled dilapidated aerosolized chaired languished panelized used\n",
      "    experimented flourished imitated reunifed factored condensed sheared\n",
      "    unsettled primed dubbed desired ...\n",
      "VBP: verb, present tense, not 3rd person singular\n",
      "    predominate wrap resort sue twist spill cure lengthen brush terminate\n",
      "    appear tend stray glisten obtain comprise detest tease attract\n",
      "    emphasize mold postpone sever return wag ...\n",
      "VBZ: verb, present tense, 3rd person singular\n",
      "    bases reconstructs marks mixes displeases seals carps weaves snatches\n",
      "    slumps stretches authorizes smolders pictures emerges stockpiles\n",
      "    seduces fizzes uses bolsters slaps speaks pleads ...\n",
      "WDT: WH-determiner\n",
      "    that what whatever which whichever\n",
      "WP: WH-pronoun\n",
      "    that what whatever whatsoever which who whom whosoever\n",
      "WP$: WH-pronoun, possessive\n",
      "    whose\n",
      "WRB: Wh-adverb\n",
      "    how however whence whenever where whereby whereever wherein whereof why\n",
      "``: opening quotation mark\n",
      "    ` ``\n"
     ]
    },
    {
     "name": "stderr",
     "output_type": "stream",
     "text": [
      "[nltk_data] Downloading package tagsets to\n",
      "[nltk_data]     C:\\Users\\Aparna\\AppData\\Roaming\\nltk_data...\n",
      "[nltk_data]   Unzipping help\\tagsets.zip.\n"
     ]
    }
   ],
   "source": [
    "nltk.download('tagsets')\n",
    "nltk.help.upenn_tagset()"
   ]
  },
  {
   "cell_type": "code",
   "execution_count": 38,
   "metadata": {},
   "outputs": [],
   "source": [
    "jabberwocky_excerpt = \"\"\"'Twas brillig, and the slithy toves did gyre and gimble in the wabe: all mimsy were the borogoves, and the mome raths outgrabe.\"\"\""
   ]
  },
  {
   "cell_type": "code",
   "execution_count": 39,
   "metadata": {},
   "outputs": [
    {
     "data": {
      "text/plain": [
       "[(\"'T\", 'NN'),\n",
       " ('was', 'VBD'),\n",
       " ('brillig', 'VBN'),\n",
       " (',', ','),\n",
       " ('and', 'CC'),\n",
       " ('the', 'DT'),\n",
       " ('slithy', 'JJ'),\n",
       " ('toves', 'NNS'),\n",
       " ('did', 'VBD'),\n",
       " ('gyre', 'NN'),\n",
       " ('and', 'CC'),\n",
       " ('gimble', 'JJ'),\n",
       " ('in', 'IN'),\n",
       " ('the', 'DT'),\n",
       " ('wabe', 'NN'),\n",
       " (':', ':'),\n",
       " ('all', 'DT'),\n",
       " ('mimsy', 'NNS'),\n",
       " ('were', 'VBD'),\n",
       " ('the', 'DT'),\n",
       " ('borogoves', 'NNS'),\n",
       " (',', ','),\n",
       " ('and', 'CC'),\n",
       " ('the', 'DT'),\n",
       " ('mome', 'JJ'),\n",
       " ('raths', 'NNS'),\n",
       " ('outgrabe', 'RB'),\n",
       " ('.', '.')]"
      ]
     },
     "execution_count": 39,
     "metadata": {},
     "output_type": "execute_result"
    }
   ],
   "source": [
    "words_in_excerpt = word_tokenize(jabberwocky_excerpt)\n",
    "nltk.pos_tag(words_in_excerpt)"
   ]
  },
  {
   "cell_type": "code",
   "execution_count": 42,
   "metadata": {},
   "outputs": [
    {
     "name": "stderr",
     "output_type": "stream",
     "text": [
      "[nltk_data] Downloading package wordnet to\n",
      "[nltk_data]     C:\\Users\\Aparna\\AppData\\Roaming\\nltk_data...\n"
     ]
    },
    {
     "data": {
      "text/plain": [
       "True"
      ]
     },
     "execution_count": 42,
     "metadata": {},
     "output_type": "execute_result"
    }
   ],
   "source": [
    "#Lemmatizing\n",
    "from nltk.stem import WordNetLemmatizer\n",
    "nltk.download('wordnet')"
   ]
  },
  {
   "cell_type": "code",
   "execution_count": 43,
   "metadata": {},
   "outputs": [
    {
     "data": {
      "text/plain": [
       "'scarf'"
      ]
     },
     "execution_count": 43,
     "metadata": {},
     "output_type": "execute_result"
    }
   ],
   "source": [
    "lemmatizer = WordNetLemmatizer()\n",
    "lemmatizer.lemmatize(\"scarves\")"
   ]
  },
  {
   "cell_type": "code",
   "execution_count": 44,
   "metadata": {},
   "outputs": [],
   "source": [
    "string_for_lemmatizing = \"The friends of DeSoto love scarves.\""
   ]
  },
  {
   "cell_type": "code",
   "execution_count": 45,
   "metadata": {},
   "outputs": [
    {
     "data": {
      "text/plain": [
       "['The', 'friends', 'of', 'DeSoto', 'love', 'scarves', '.']"
      ]
     },
     "execution_count": 45,
     "metadata": {},
     "output_type": "execute_result"
    }
   ],
   "source": [
    "words = word_tokenize(string_for_lemmatizing)\n",
    "words"
   ]
  },
  {
   "cell_type": "code",
   "execution_count": 46,
   "metadata": {},
   "outputs": [],
   "source": [
    "lemmatized_words = [lemmatizer.lemmatize(word) for word in words]"
   ]
  },
  {
   "cell_type": "code",
   "execution_count": 47,
   "metadata": {},
   "outputs": [
    {
     "data": {
      "text/plain": [
       "['The', 'friend', 'of', 'DeSoto', 'love', 'scarf', '.']"
      ]
     },
     "execution_count": 47,
     "metadata": {},
     "output_type": "execute_result"
    }
   ],
   "source": [
    "lemmatized_words"
   ]
  },
  {
   "cell_type": "code",
   "execution_count": 48,
   "metadata": {},
   "outputs": [
    {
     "data": {
      "text/plain": [
       "'worst'"
      ]
     },
     "execution_count": 48,
     "metadata": {},
     "output_type": "execute_result"
    }
   ],
   "source": [
    "lemmatizer.lemmatize(\"worst\")"
   ]
  },
  {
   "cell_type": "code",
   "execution_count": 49,
   "metadata": {},
   "outputs": [
    {
     "data": {
      "text/plain": [
       "'bad'"
      ]
     },
     "execution_count": 49,
     "metadata": {},
     "output_type": "execute_result"
    }
   ],
   "source": [
    "lemmatizer.lemmatize(\"worst\", pos=\"a\")"
   ]
  },
  {
   "cell_type": "code",
   "execution_count": 50,
   "metadata": {},
   "outputs": [
    {
     "data": {
      "text/plain": [
       "['It',\n",
       " \"'s\",\n",
       " 'a',\n",
       " 'dangerous',\n",
       " 'business',\n",
       " ',',\n",
       " 'Frodo',\n",
       " ',',\n",
       " 'going',\n",
       " 'out',\n",
       " 'your',\n",
       " 'door',\n",
       " '.']"
      ]
     },
     "execution_count": 50,
     "metadata": {},
     "output_type": "execute_result"
    }
   ],
   "source": [
    "#Chunking\n",
    "from nltk.tokenize import word_tokenize\n",
    "lotr_quote = \"It's a dangerous business, Frodo, going out your door.\"\n",
    "words_in_lotr_quote = word_tokenize(lotr_quote)\n",
    "words_in_lotr_quote"
   ]
  },
  {
   "cell_type": "code",
   "execution_count": 51,
   "metadata": {},
   "outputs": [
    {
     "name": "stderr",
     "output_type": "stream",
     "text": [
      "[nltk_data] Downloading package averaged_perceptron_tagger to\n",
      "[nltk_data]     C:\\Users\\Aparna\\AppData\\Roaming\\nltk_data...\n",
      "[nltk_data]   Package averaged_perceptron_tagger is already up-to-\n",
      "[nltk_data]       date!\n"
     ]
    },
    {
     "data": {
      "text/plain": [
       "[('It', 'PRP'),\n",
       " (\"'s\", 'VBZ'),\n",
       " ('a', 'DT'),\n",
       " ('dangerous', 'JJ'),\n",
       " ('business', 'NN'),\n",
       " (',', ','),\n",
       " ('Frodo', 'NNP'),\n",
       " (',', ','),\n",
       " ('going', 'VBG'),\n",
       " ('out', 'RP'),\n",
       " ('your', 'PRP$'),\n",
       " ('door', 'NN'),\n",
       " ('.', '.')]"
      ]
     },
     "execution_count": 51,
     "metadata": {},
     "output_type": "execute_result"
    }
   ],
   "source": [
    "nltk.download(\"averaged_perceptron_tagger\")\n",
    "lotr_pos_tags = nltk.pos_tag(words_in_lotr_quote)\n",
    "lotr_pos_tags"
   ]
  },
  {
   "cell_type": "code",
   "execution_count": 52,
   "metadata": {},
   "outputs": [],
   "source": [
    "grammar = \"NP: {<DT>?<JJ>*<NN>}\""
   ]
  },
  {
   "cell_type": "code",
   "execution_count": 53,
   "metadata": {},
   "outputs": [],
   "source": [
    "chunk_parser = nltk.RegexpParser(grammar)"
   ]
  },
  {
   "cell_type": "code",
   "execution_count": 54,
   "metadata": {},
   "outputs": [],
   "source": [
    "tree = chunk_parser.parse(lotr_pos_tags)"
   ]
  },
  {
   "cell_type": "code",
   "execution_count": 55,
   "metadata": {},
   "outputs": [],
   "source": [
    "tree.draw()"
   ]
  },
  {
   "cell_type": "code",
   "execution_count": 56,
   "metadata": {},
   "outputs": [
    {
     "data": {
      "text/plain": [
       "[('It', 'PRP'),\n",
       " (\"'s\", 'VBZ'),\n",
       " ('a', 'DT'),\n",
       " ('dangerous', 'JJ'),\n",
       " ('business', 'NN'),\n",
       " (',', ','),\n",
       " ('Frodo', 'NNP'),\n",
       " (',', ','),\n",
       " ('going', 'VBG'),\n",
       " ('out', 'RP'),\n",
       " ('your', 'PRP$'),\n",
       " ('door', 'NN'),\n",
       " ('.', '.')]"
      ]
     },
     "execution_count": 56,
     "metadata": {},
     "output_type": "execute_result"
    }
   ],
   "source": [
    "#Chinking\n",
    "lotr_pos_tags"
   ]
  },
  {
   "cell_type": "code",
   "execution_count": 63,
   "metadata": {},
   "outputs": [],
   "source": [
    "grammar = \"\"\"Chunk: {<.*>+}\n",
    "       }<JJ>{\"\"\""
   ]
  },
  {
   "cell_type": "code",
   "execution_count": 64,
   "metadata": {},
   "outputs": [],
   "source": [
    "chunk_parser = nltk.RegexpParser(grammar)"
   ]
  },
  {
   "cell_type": "code",
   "execution_count": 65,
   "metadata": {},
   "outputs": [],
   "source": [
    "tree = chunk_parser.parse(lotr_pos_tags)"
   ]
  },
  {
   "cell_type": "code",
   "execution_count": 67,
   "metadata": {},
   "outputs": [],
   "source": [
    "tree.draw()"
   ]
  },
  {
   "cell_type": "code",
   "execution_count": 68,
   "metadata": {},
   "outputs": [
    {
     "name": "stderr",
     "output_type": "stream",
     "text": [
      "[nltk_data] Downloading package maxent_ne_chunker to\n",
      "[nltk_data]     C:\\Users\\Aparna\\AppData\\Roaming\\nltk_data...\n",
      "[nltk_data]   Unzipping chunkers\\maxent_ne_chunker.zip.\n",
      "[nltk_data] Downloading package words to\n",
      "[nltk_data]     C:\\Users\\Aparna\\AppData\\Roaming\\nltk_data...\n",
      "[nltk_data]   Unzipping corpora\\words.zip.\n"
     ]
    }
   ],
   "source": [
    "#Using Named Entity Recognition (NER)\n",
    "nltk.download(\"maxent_ne_chunker\")\n",
    "nltk.download(\"words\")\n",
    "tree = nltk.ne_chunk(lotr_pos_tags)"
   ]
  },
  {
   "cell_type": "code",
   "execution_count": 69,
   "metadata": {},
   "outputs": [],
   "source": [
    "tree.draw()"
   ]
  },
  {
   "cell_type": "code",
   "execution_count": 70,
   "metadata": {},
   "outputs": [],
   "source": [
    "tree = nltk.ne_chunk(lotr_pos_tags, binary=True)\n",
    "tree.draw()"
   ]
  },
  {
   "cell_type": "code",
   "execution_count": 71,
   "metadata": {},
   "outputs": [],
   "source": [
    " quote = \"\"\"\n",
    "... Men like Schiaparelli watched the red planet—it is odd, by-the-bye, that\n",
    "... for countless centuries Mars has been the star of war—but failed to\n",
    "... interpret the fluctuating appearances of the markings they mapped so well.\n",
    "... All that time the Martians must have been getting ready.\n",
    "...\n",
    "... During the opposition of 1894 a great light was seen on the illuminated\n",
    "... part of the disk, first at the Lick Observatory, then by Perrotin of Nice,\n",
    "... and then by other observers. English readers heard of it first in the\n",
    "... issue of Nature dated August 2.\"\"\""
   ]
  },
  {
   "cell_type": "code",
   "execution_count": 74,
   "metadata": {},
   "outputs": [],
   "source": [
    "#get named entities only from text\n",
    "def extract_ne(quote):\n",
    "    words = word_tokenize(quote, language='English')\n",
    "    tags = nltk.pos_tag(words)\n",
    "    tree = nltk.ne_chunk(tags, binary=True)\n",
    "    return set(\n",
    "        \" \".join(i[0] for i in t)\n",
    "        for t in tree\n",
    "            if hasattr(t, \"label\") and t.label() == \"NE\"\n",
    "    )"
   ]
  },
  {
   "cell_type": "code",
   "execution_count": 75,
   "metadata": {},
   "outputs": [
    {
     "data": {
      "text/plain": [
       "{'Lick Observatory', 'Mars', 'Nature', 'Perrotin', 'Schiaparelli'}"
      ]
     },
     "execution_count": 75,
     "metadata": {},
     "output_type": "execute_result"
    }
   ],
   "source": [
    "extract_ne(quote)"
   ]
  },
  {
   "cell_type": "code",
   "execution_count": 76,
   "metadata": {},
   "outputs": [
    {
     "name": "stderr",
     "output_type": "stream",
     "text": [
      "[nltk_data] Downloading collection 'book'\n",
      "[nltk_data]    | \n",
      "[nltk_data]    | Downloading package abc to\n",
      "[nltk_data]    |     C:\\Users\\Aparna\\AppData\\Roaming\\nltk_data...\n",
      "[nltk_data]    |   Unzipping corpora\\abc.zip.\n",
      "[nltk_data]    | Downloading package brown to\n",
      "[nltk_data]    |     C:\\Users\\Aparna\\AppData\\Roaming\\nltk_data...\n",
      "[nltk_data]    |   Unzipping corpora\\brown.zip.\n",
      "[nltk_data]    | Downloading package chat80 to\n",
      "[nltk_data]    |     C:\\Users\\Aparna\\AppData\\Roaming\\nltk_data...\n",
      "[nltk_data]    |   Unzipping corpora\\chat80.zip.\n",
      "[nltk_data]    | Downloading package cmudict to\n",
      "[nltk_data]    |     C:\\Users\\Aparna\\AppData\\Roaming\\nltk_data...\n",
      "[nltk_data]    |   Unzipping corpora\\cmudict.zip.\n",
      "[nltk_data]    | Downloading package conll2000 to\n",
      "[nltk_data]    |     C:\\Users\\Aparna\\AppData\\Roaming\\nltk_data...\n",
      "[nltk_data]    |   Unzipping corpora\\conll2000.zip.\n",
      "[nltk_data]    | Downloading package conll2002 to\n",
      "[nltk_data]    |     C:\\Users\\Aparna\\AppData\\Roaming\\nltk_data...\n",
      "[nltk_data]    |   Unzipping corpora\\conll2002.zip.\n",
      "[nltk_data]    | Downloading package dependency_treebank to\n",
      "[nltk_data]    |     C:\\Users\\Aparna\\AppData\\Roaming\\nltk_data...\n",
      "[nltk_data]    |   Unzipping corpora\\dependency_treebank.zip.\n",
      "[nltk_data]    | Downloading package genesis to\n",
      "[nltk_data]    |     C:\\Users\\Aparna\\AppData\\Roaming\\nltk_data...\n",
      "[nltk_data]    |   Unzipping corpora\\genesis.zip.\n",
      "[nltk_data]    | Downloading package gutenberg to\n",
      "[nltk_data]    |     C:\\Users\\Aparna\\AppData\\Roaming\\nltk_data...\n",
      "[nltk_data]    |   Unzipping corpora\\gutenberg.zip.\n",
      "[nltk_data]    | Downloading package ieer to\n",
      "[nltk_data]    |     C:\\Users\\Aparna\\AppData\\Roaming\\nltk_data...\n",
      "[nltk_data]    |   Unzipping corpora\\ieer.zip.\n",
      "[nltk_data]    | Downloading package inaugural to\n",
      "[nltk_data]    |     C:\\Users\\Aparna\\AppData\\Roaming\\nltk_data...\n",
      "[nltk_data]    |   Unzipping corpora\\inaugural.zip.\n",
      "[nltk_data]    | Downloading package movie_reviews to\n",
      "[nltk_data]    |     C:\\Users\\Aparna\\AppData\\Roaming\\nltk_data...\n",
      "[nltk_data]    |   Unzipping corpora\\movie_reviews.zip.\n",
      "[nltk_data]    | Downloading package nps_chat to\n",
      "[nltk_data]    |     C:\\Users\\Aparna\\AppData\\Roaming\\nltk_data...\n",
      "[nltk_data]    |   Unzipping corpora\\nps_chat.zip.\n",
      "[nltk_data]    | Downloading package names to\n",
      "[nltk_data]    |     C:\\Users\\Aparna\\AppData\\Roaming\\nltk_data...\n",
      "[nltk_data]    |   Unzipping corpora\\names.zip.\n",
      "[nltk_data]    | Downloading package ppattach to\n",
      "[nltk_data]    |     C:\\Users\\Aparna\\AppData\\Roaming\\nltk_data...\n",
      "[nltk_data]    |   Unzipping corpora\\ppattach.zip.\n",
      "[nltk_data]    | Downloading package reuters to\n",
      "[nltk_data]    |     C:\\Users\\Aparna\\AppData\\Roaming\\nltk_data...\n",
      "[nltk_data]    | Downloading package senseval to\n",
      "[nltk_data]    |     C:\\Users\\Aparna\\AppData\\Roaming\\nltk_data...\n",
      "[nltk_data]    |   Unzipping corpora\\senseval.zip.\n",
      "[nltk_data]    | Downloading package state_union to\n",
      "[nltk_data]    |     C:\\Users\\Aparna\\AppData\\Roaming\\nltk_data...\n",
      "[nltk_data]    |   Unzipping corpora\\state_union.zip.\n",
      "[nltk_data]    | Downloading package stopwords to\n",
      "[nltk_data]    |     C:\\Users\\Aparna\\AppData\\Roaming\\nltk_data...\n",
      "[nltk_data]    |   Package stopwords is already up-to-date!\n",
      "[nltk_data]    | Downloading package swadesh to\n",
      "[nltk_data]    |     C:\\Users\\Aparna\\AppData\\Roaming\\nltk_data...\n",
      "[nltk_data]    |   Unzipping corpora\\swadesh.zip.\n",
      "[nltk_data]    | Downloading package timit to\n",
      "[nltk_data]    |     C:\\Users\\Aparna\\AppData\\Roaming\\nltk_data...\n",
      "[nltk_data]    |   Unzipping corpora\\timit.zip.\n",
      "[nltk_data]    | Downloading package treebank to\n",
      "[nltk_data]    |     C:\\Users\\Aparna\\AppData\\Roaming\\nltk_data...\n",
      "[nltk_data]    |   Unzipping corpora\\treebank.zip.\n",
      "[nltk_data]    | Downloading package toolbox to\n",
      "[nltk_data]    |     C:\\Users\\Aparna\\AppData\\Roaming\\nltk_data...\n",
      "[nltk_data]    |   Unzipping corpora\\toolbox.zip.\n",
      "[nltk_data]    | Downloading package udhr to\n",
      "[nltk_data]    |     C:\\Users\\Aparna\\AppData\\Roaming\\nltk_data...\n",
      "[nltk_data]    |   Unzipping corpora\\udhr.zip.\n",
      "[nltk_data]    | Downloading package udhr2 to\n",
      "[nltk_data]    |     C:\\Users\\Aparna\\AppData\\Roaming\\nltk_data...\n",
      "[nltk_data]    |   Unzipping corpora\\udhr2.zip.\n",
      "[nltk_data]    | Downloading package unicode_samples to\n",
      "[nltk_data]    |     C:\\Users\\Aparna\\AppData\\Roaming\\nltk_data...\n",
      "[nltk_data]    |   Unzipping corpora\\unicode_samples.zip.\n",
      "[nltk_data]    | Downloading package webtext to\n",
      "[nltk_data]    |     C:\\Users\\Aparna\\AppData\\Roaming\\nltk_data...\n",
      "[nltk_data]    |   Unzipping corpora\\webtext.zip.\n",
      "[nltk_data]    | Downloading package wordnet to\n",
      "[nltk_data]    |     C:\\Users\\Aparna\\AppData\\Roaming\\nltk_data...\n",
      "[nltk_data]    |   Package wordnet is already up-to-date!\n",
      "[nltk_data]    | Downloading package wordnet_ic to\n",
      "[nltk_data]    |     C:\\Users\\Aparna\\AppData\\Roaming\\nltk_data...\n",
      "[nltk_data]    |   Unzipping corpora\\wordnet_ic.zip.\n",
      "[nltk_data]    | Downloading package words to\n",
      "[nltk_data]    |     C:\\Users\\Aparna\\AppData\\Roaming\\nltk_data...\n",
      "[nltk_data]    |   Package words is already up-to-date!\n",
      "[nltk_data]    | Downloading package maxent_treebank_pos_tagger to\n",
      "[nltk_data]    |     C:\\Users\\Aparna\\AppData\\Roaming\\nltk_data...\n",
      "[nltk_data]    |   Unzipping taggers\\maxent_treebank_pos_tagger.zip.\n",
      "[nltk_data]    | Downloading package maxent_ne_chunker to\n",
      "[nltk_data]    |     C:\\Users\\Aparna\\AppData\\Roaming\\nltk_data...\n",
      "[nltk_data]    |   Package maxent_ne_chunker is already up-to-date!\n",
      "[nltk_data]    | Downloading package universal_tagset to\n",
      "[nltk_data]    |     C:\\Users\\Aparna\\AppData\\Roaming\\nltk_data...\n",
      "[nltk_data]    |   Unzipping taggers\\universal_tagset.zip.\n",
      "[nltk_data]    | Downloading package punkt to\n",
      "[nltk_data]    |     C:\\Users\\Aparna\\AppData\\Roaming\\nltk_data...\n",
      "[nltk_data]    |   Package punkt is already up-to-date!\n",
      "[nltk_data]    | Downloading package book_grammars to\n",
      "[nltk_data]    |     C:\\Users\\Aparna\\AppData\\Roaming\\nltk_data...\n",
      "[nltk_data]    |   Unzipping grammars\\book_grammars.zip.\n",
      "[nltk_data]    | Downloading package city_database to\n",
      "[nltk_data]    |     C:\\Users\\Aparna\\AppData\\Roaming\\nltk_data...\n",
      "[nltk_data]    |   Unzipping corpora\\city_database.zip.\n",
      "[nltk_data]    | Downloading package tagsets to\n",
      "[nltk_data]    |     C:\\Users\\Aparna\\AppData\\Roaming\\nltk_data...\n",
      "[nltk_data]    |   Package tagsets is already up-to-date!\n",
      "[nltk_data]    | Downloading package panlex_swadesh to\n",
      "[nltk_data]    |     C:\\Users\\Aparna\\AppData\\Roaming\\nltk_data...\n",
      "[nltk_data]    | Downloading package averaged_perceptron_tagger to\n",
      "[nltk_data]    |     C:\\Users\\Aparna\\AppData\\Roaming\\nltk_data...\n",
      "[nltk_data]    |   Package averaged_perceptron_tagger is already up-\n",
      "[nltk_data]    |       to-date!\n",
      "[nltk_data]    | \n",
      "[nltk_data]  Done downloading collection book\n"
     ]
    },
    {
     "name": "stdout",
     "output_type": "stream",
     "text": [
      "*** Introductory Examples for the NLTK Book ***\n",
      "Loading text1, ..., text9 and sent1, ..., sent9\n",
      "Type the name of the text or sentence to view it.\n",
      "Type: 'texts()' or 'sents()' to list the materials.\n",
      "text1: Moby Dick by Herman Melville 1851\n",
      "text2: Sense and Sensibility by Jane Austen 1811\n",
      "text3: The Book of Genesis\n",
      "text4: Inaugural Address Corpus\n",
      "text5: Chat Corpus\n",
      "text6: Monty Python and the Holy Grail\n",
      "text7: Wall Street Journal\n",
      "text8: Personals Corpus\n",
      "text9: The Man Who Was Thursday by G . K . Chesterton 1908\n"
     ]
    }
   ],
   "source": [
    "#Getting Text to Analyze\n",
    "nltk.download(\"book\")\n",
    "from nltk.book import *"
   ]
  },
  {
   "cell_type": "code",
   "execution_count": 77,
   "metadata": {},
   "outputs": [
    {
     "name": "stdout",
     "output_type": "stream",
     "text": [
      "Displaying 14 of 14 matches:\n",
      " to hearing from you all . ABLE young man seeks , sexy older women . Phone for \n",
      "ble relationship . GENUINE ATTRACTIVE MAN 40 y . o ., no ties , secure , 5 ft .\n",
      "ship , and quality times . VIETNAMESE MAN Single , never married , financially \n",
      "ip . WELL DRESSED emotionally healthy man 37 like to meet full figured woman fo\n",
      " nth subs LIKE TO BE MISTRESS of YOUR MAN like to be treated well . Bold DTE no\n",
      "eeks lady in similar position MARRIED MAN 50 , attrac . fit , seeks lady 40 - 5\n",
      "eks nice girl 25 - 30 serious rship . Man 46 attractive fit , assertive , and k\n",
      " 40 - 50 sought by Aussie mid 40s b / man f / ship r / ship LOVE to meet widowe\n",
      "discreet times . Sth E Subs . MARRIED MAN 42yo 6ft , fit , seeks Lady for discr\n",
      "woman , seeks professional , employed man , with interests in theatre , dining \n",
      " tall and of large build seeks a good man . I am a nonsmoker , social drinker ,\n",
      "lead to relationship . SEEKING HONEST MAN I am 41 y . o ., 5 ft . 4 , med . bui\n",
      " quiet times . Seeks 35 - 45 , honest man with good SOH & similar interests , f\n",
      " genuine , caring , honest and normal man for fship , poss rship . S / S , S / \n"
     ]
    }
   ],
   "source": [
    "#Using a Concordance\n",
    "text8.concordance(\"man\")"
   ]
  },
  {
   "cell_type": "code",
   "execution_count": 78,
   "metadata": {},
   "outputs": [
    {
     "name": "stdout",
     "output_type": "stream",
     "text": [
      "Displaying 11 of 11 matches:\n",
      "at home . Seeking an honest , caring woman , slim or med . build , who enjoys t\n",
      "thy man 37 like to meet full figured woman for relationship . 48 slim , shy , S\n",
      "rry . MALE 58 years old . Is there a Woman who would like to spend 1 weekend a \n",
      " other interests . Seeking Christian Woman for fship , view to rship . SWM 45 D\n",
      "ALE 60 - burly beared seeks intimate woman for outings n / s s / d F / ston / P\n",
      "ington . SCORPIO 47 seeks passionate woman for discreet intimate encounters SEX\n",
      "le dad . 42 , East sub . 5 \" 9 seeks woman 30 + for f / ship relationship TALL \n",
      "personal trainer looking for married woman age open for fun MARRIED Dark guy 37\n",
      "rinker , seeking slim - medium build woman who is happy in life , age open . AC\n",
      ". O . TERTIARY Educated professional woman , seeks professional , employed man \n",
      " real romantic , age 50 - 65 y . o . WOMAN OF SUBSTANCE 56 , 59 kg ., 50 , fit \n"
     ]
    }
   ],
   "source": [
    "text8.concordance(\"woman\")"
   ]
  },
  {
   "cell_type": "code",
   "execution_count": 79,
   "metadata": {},
   "outputs": [
    {
     "data": {
      "image/png": "[encoded data removed]",
      "text/plain": [
       "<Figure size 432x288 with 1 Axes>"
      ]
     },
     "metadata": {
      "needs_background": "light"
     },
     "output_type": "display_data"
    }
   ],
   "source": [
    "#Making a Dispersion Plot\n",
    "text8.dispersion_plot(\n",
    "    [\"woman\", \"lady\", \"girl\", \"gal\", \"man\", \"gentleman\", \"boy\", \"guy\"]\n",
    ")"
   ]
  },
  {
   "cell_type": "code",
   "execution_count": 80,
   "metadata": {},
   "outputs": [
    {
     "data": {
      "image/png": "[encoded data removed]",
      "text/plain": [
       "<Figure size 432x288 with 1 Axes>"
      ]
     },
     "metadata": {
      "needs_background": "light"
     },
     "output_type": "display_data"
    }
   ],
   "source": [
    "text2.dispersion_plot([\"Allenham\", \"Whitwell\", \"Cleveland\", \"Combe\"])"
   ]
  },
  {
   "cell_type": "code",
   "execution_count": 81,
   "metadata": {},
   "outputs": [
    {
     "name": "stdout",
     "output_type": "stream",
     "text": [
      "<FreqDist with 1108 samples and 4867 outcomes>\n"
     ]
    }
   ],
   "source": [
    "#Making a Frequency Distribution\n",
    "from nltk import FreqDist\n",
    "frequency_distribution = FreqDist(text8)\n",
    "print(frequency_distribution)"
   ]
  },
  {
   "cell_type": "code",
   "execution_count": 82,
   "metadata": {},
   "outputs": [
    {
     "data": {
      "text/plain": [
       "[(',', 539),\n",
       " ('.', 353),\n",
       " ('/', 110),\n",
       " ('for', 99),\n",
       " ('and', 74),\n",
       " ('to', 74),\n",
       " ('lady', 68),\n",
       " ('-', 66),\n",
       " ('seeks', 60),\n",
       " ('a', 52),\n",
       " ('with', 44),\n",
       " ('S', 36),\n",
       " ('ship', 33),\n",
       " ('&', 30),\n",
       " ('relationship', 29),\n",
       " ('fun', 28),\n",
       " ('in', 27),\n",
       " ('slim', 27),\n",
       " ('build', 27),\n",
       " ('o', 26)]"
      ]
     },
     "execution_count": 82,
     "metadata": {},
     "output_type": "execute_result"
    }
   ],
   "source": [
    "frequency_distribution.most_common(20)"
   ]
  },
  {
   "cell_type": "code",
   "execution_count": 83,
   "metadata": {},
   "outputs": [],
   "source": [
    "meaningful_words = [\n",
    "    word for word in text8 if word.casefold() not in stop_words\n",
    "]"
   ]
  },
  {
   "cell_type": "code",
   "execution_count": 84,
   "metadata": {},
   "outputs": [],
   "source": [
    "frequency_distribution = FreqDist(meaningful_words)"
   ]
  },
  {
   "cell_type": "code",
   "execution_count": 85,
   "metadata": {},
   "outputs": [
    {
     "data": {
      "text/plain": [
       "[(',', 539),\n",
       " ('.', 353),\n",
       " ('/', 110),\n",
       " ('lady', 68),\n",
       " ('-', 66),\n",
       " ('seeks', 60),\n",
       " ('ship', 33),\n",
       " ('&', 30),\n",
       " ('relationship', 29),\n",
       " ('fun', 28),\n",
       " ('slim', 27),\n",
       " ('build', 27),\n",
       " ('smoker', 23),\n",
       " ('50', 23),\n",
       " ('non', 22),\n",
       " ('movies', 22),\n",
       " ('good', 21),\n",
       " ('honest', 20),\n",
       " ('dining', 19),\n",
       " ('rship', 18)]"
      ]
     },
     "execution_count": 85,
     "metadata": {},
     "output_type": "execute_result"
    }
   ],
   "source": [
    "frequency_distribution.most_common(20)"
   ]
  },
  {
   "cell_type": "code",
   "execution_count": 86,
   "metadata": {},
   "outputs": [
    {
     "data": {
      "image/png": "[encoded data removed]",
      "text/plain": [
       "<Figure size 432x288 with 1 Axes>"
      ]
     },
     "metadata": {
      "needs_background": "light"
     },
     "output_type": "display_data"
    },
    {
     "data": {
      "text/plain": [
       "<AxesSubplot:xlabel='Samples', ylabel='Cumulative Counts'>"
      ]
     },
     "execution_count": 86,
     "metadata": {},
     "output_type": "execute_result"
    }
   ],
   "source": [
    "frequency_distribution.plot(20, cumulative=True)"
   ]
  },
  {
   "cell_type": "code",
   "execution_count": 87,
   "metadata": {},
   "outputs": [
    {
     "name": "stdout",
     "output_type": "stream",
     "text": [
      "would like; medium build; social drinker; quiet nights; non smoker;\n",
      "long term; age open; Would like; easy going; financially secure; fun\n",
      "times; similar interests; Age open; weekends away; poss rship; well\n",
      "presented; never married; single mum; permanent relationship; slim\n",
      "build\n"
     ]
    }
   ],
   "source": [
    "#Finding Collocations\n",
    "text8.collocations()"
   ]
  },
  {
   "cell_type": "code",
   "execution_count": 88,
   "metadata": {},
   "outputs": [],
   "source": [
    "lemmatized_words = [lemmatizer.lemmatize(word) for word in text8]"
   ]
  },
  {
   "cell_type": "code",
   "execution_count": 93,
   "metadata": {},
   "outputs": [
    {
     "data": {
      "text/plain": [
       "['25',\n",
       " 'SEXY',\n",
       " 'MALE',\n",
       " ',',\n",
       " 'seek',\n",
       " 'attrac',\n",
       " 'older',\n",
       " 'single',\n",
       " 'lady',\n",
       " ',',\n",
       " 'for',\n",
       " 'discreet',\n",
       " 'encounter',\n",
       " '.',\n",
       " '35YO',\n",
       " 'Security',\n",
       " 'Guard',\n",
       " ',',\n",
       " 'seeking',\n",
       " 'lady',\n",
       " 'in',\n",
       " 'uniform',\n",
       " 'for',\n",
       " 'fun',\n",
       " 'time',\n",
       " '.',\n",
       " '40',\n",
       " 'yo',\n",
       " 'SINGLE',\n",
       " 'DAD',\n",
       " ',',\n",
       " 'sincere',\n",
       " 'friendly',\n",
       " 'DTE',\n",
       " 'seek',\n",
       " 'r',\n",
       " '/',\n",
       " 'ship',\n",
       " 'with',\n",
       " 'fem',\n",
       " 'age',\n",
       " 'open',\n",
       " 'S',\n",
       " '/',\n",
       " 'E',\n",
       " '44yo',\n",
       " 'tall',\n",
       " 'seek',\n",
       " 'working',\n",
       " 'single',\n",
       " 'mum',\n",
       " 'or',\n",
       " 'lady',\n",
       " 'below',\n",
       " '45',\n",
       " 'fship',\n",
       " 'rship',\n",
       " '.',\n",
       " 'Nat',\n",
       " 'Open',\n",
       " '6',\n",
       " '.',\n",
       " '2',\n",
       " '35',\n",
       " 'yr',\n",
       " 'old',\n",
       " 'OUTGOING',\n",
       " 'M',\n",
       " 'seek',\n",
       " 'fem',\n",
       " '28',\n",
       " '-',\n",
       " '35',\n",
       " 'for',\n",
       " 'o',\n",
       " '/',\n",
       " 'door',\n",
       " 'sport',\n",
       " '-',\n",
       " 'w',\n",
       " '/',\n",
       " 'e',\n",
       " 'away',\n",
       " 'A',\n",
       " 'professional',\n",
       " 'business',\n",
       " 'male',\n",
       " ',',\n",
       " 'late',\n",
       " '40',\n",
       " ',',\n",
       " '6',\n",
       " 'foot',\n",
       " 'tall',\n",
       " ',',\n",
       " 'slim',\n",
       " 'build',\n",
       " ',',\n",
       " 'well',\n",
       " 'groomed',\n",
       " ',',\n",
       " 'great',\n",
       " 'personality',\n",
       " ',',\n",
       " 'home',\n",
       " 'owner',\n",
       " ',',\n",
       " 'interest',\n",
       " 'include',\n",
       " 'the',\n",
       " 'art',\n",
       " 'travel',\n",
       " 'and',\n",
       " 'all',\n",
       " 'thing',\n",
       " 'good',\n",
       " ',',\n",
       " 'Ringwood',\n",
       " 'area',\n",
       " ',',\n",
       " 'is',\n",
       " 'seeking',\n",
       " 'a',\n",
       " 'genuine',\n",
       " 'female',\n",
       " 'of',\n",
       " 'similar',\n",
       " 'age',\n",
       " 'or',\n",
       " 'older',\n",
       " ',',\n",
       " 'in',\n",
       " 'same',\n",
       " 'area',\n",
       " 'or',\n",
       " 'surround',\n",
       " ',',\n",
       " 'for',\n",
       " 'a',\n",
       " 'meaningful',\n",
       " 'long',\n",
       " 'term',\n",
       " 'rship',\n",
       " '.',\n",
       " 'Looking',\n",
       " 'forward',\n",
       " 'to',\n",
       " 'hearing',\n",
       " 'from',\n",
       " 'you',\n",
       " 'all',\n",
       " '.',\n",
       " 'ABLE',\n",
       " 'young',\n",
       " 'man',\n",
       " 'seek',\n",
       " ',',\n",
       " 'sexy',\n",
       " 'older',\n",
       " 'woman',\n",
       " '.',\n",
       " 'Phone',\n",
       " 'for',\n",
       " 'fun',\n",
       " 'ready',\n",
       " 'to',\n",
       " 'play',\n",
       " 'AFFECTIONATE',\n",
       " 'LADY',\n",
       " 'Sought',\n",
       " 'by',\n",
       " 'generous',\n",
       " 'guy',\n",
       " ',',\n",
       " '40',\n",
       " ',',\n",
       " 'mutual',\n",
       " 'fulfillment',\n",
       " 'ARE',\n",
       " 'YOU',\n",
       " 'ALONE',\n",
       " 'or',\n",
       " 'lost',\n",
       " 'in',\n",
       " 'a',\n",
       " 'r',\n",
       " '/',\n",
       " 'ship',\n",
       " 'too',\n",
       " ',',\n",
       " 'with',\n",
       " 'no',\n",
       " 'hope',\n",
       " 'in',\n",
       " 'sight',\n",
       " '?',\n",
       " 'Maybe',\n",
       " 'we',\n",
       " 'could',\n",
       " 'explore',\n",
       " 'new',\n",
       " 'beginning',\n",
       " 'together',\n",
       " '?',\n",
       " 'Im',\n",
       " '45',\n",
       " 'Slim',\n",
       " '/',\n",
       " 'Med',\n",
       " 'build',\n",
       " ',',\n",
       " 'GSOH',\n",
       " ',',\n",
       " 'high',\n",
       " 'need',\n",
       " 'and',\n",
       " 'looking',\n",
       " 'for',\n",
       " 'someone',\n",
       " 'similar',\n",
       " '.',\n",
       " 'You',\n",
       " 'WONT',\n",
       " 'be',\n",
       " 'disappointed',\n",
       " '.',\n",
       " 'AMIABLE',\n",
       " '43',\n",
       " 'y',\n",
       " '.',\n",
       " 'o',\n",
       " '.',\n",
       " 'gentleman',\n",
       " 'with',\n",
       " 'European',\n",
       " 'background',\n",
       " ',',\n",
       " '170',\n",
       " 'cm',\n",
       " ',',\n",
       " 'medium',\n",
       " 'build',\n",
       " ',',\n",
       " 'employed',\n",
       " ',',\n",
       " 'never',\n",
       " 'married',\n",
       " ',',\n",
       " 'no',\n",
       " 'child',\n",
       " '.',\n",
       " 'Enjoys',\n",
       " 'sport',\n",
       " ',',\n",
       " 'music',\n",
       " ',',\n",
       " 'cafe',\n",
       " ',',\n",
       " 'beach',\n",
       " '&',\n",
       " 'c',\n",
       " '.',\n",
       " 'Seeks',\n",
       " 'an',\n",
       " 'honest',\n",
       " ',',\n",
       " 'attractive',\n",
       " 'lady',\n",
       " 'with',\n",
       " 'a',\n",
       " 'European',\n",
       " 'background',\n",
       " ',',\n",
       " 'without',\n",
       " 'child',\n",
       " ',',\n",
       " 'who',\n",
       " 'would',\n",
       " 'like',\n",
       " 'to',\n",
       " 'get',\n",
       " 'married',\n",
       " 'and',\n",
       " 'have',\n",
       " 'chil',\n",
       " 'dren',\n",
       " 'in',\n",
       " 'the',\n",
       " 'future',\n",
       " '.',\n",
       " '29',\n",
       " '-',\n",
       " '39',\n",
       " 'y',\n",
       " '.',\n",
       " 'o',\n",
       " '.',\n",
       " 'Prefer',\n",
       " 'non',\n",
       " '-',\n",
       " 'smoker',\n",
       " 'and',\n",
       " 'living',\n",
       " 'in',\n",
       " 'Adelaide',\n",
       " '.',\n",
       " 'ARE',\n",
       " 'YOU',\n",
       " 'A',\n",
       " 'COPPER',\n",
       " 'REDHEAD',\n",
       " '?',\n",
       " 'I',\n",
       " 'am',\n",
       " '36',\n",
       " 'y',\n",
       " '.',\n",
       " 'o',\n",
       " '.',\n",
       " 'and',\n",
       " 'looking',\n",
       " 'for',\n",
       " 'companionship',\n",
       " '/',\n",
       " 'friendship',\n",
       " '.',\n",
       " 'I',\n",
       " 'enjoy',\n",
       " 'the',\n",
       " 'AFL',\n",
       " ',',\n",
       " 'animal',\n",
       " 'and',\n",
       " 'dining',\n",
       " 'out',\n",
       " '.',\n",
       " 'ATTRACTIVE',\n",
       " '43',\n",
       " 'Y',\n",
       " '.',\n",
       " 'O',\n",
       " '.',\n",
       " '61',\n",
       " ',',\n",
       " 'medium',\n",
       " 'build',\n",
       " ',',\n",
       " 'financially',\n",
       " 'secure',\n",
       " ',',\n",
       " 'no',\n",
       " 'child',\n",
       " ',',\n",
       " 'seek',\n",
       " 'attractive',\n",
       " 'lady',\n",
       " 'up',\n",
       " 'to',\n",
       " '40',\n",
       " 'y',\n",
       " '.',\n",
       " 'o',\n",
       " '.',\n",
       " 'with',\n",
       " 'no',\n",
       " 'child',\n",
       " '.',\n",
       " 'I',\n",
       " 'enjoy',\n",
       " 'the',\n",
       " 'beach',\n",
       " ',',\n",
       " 'sport',\n",
       " 'and',\n",
       " 'music',\n",
       " '.',\n",
       " 'View',\n",
       " 'to',\n",
       " 'permanent',\n",
       " 'relationship',\n",
       " '.',\n",
       " 'ATTRACTIVE',\n",
       " 'GUY',\n",
       " 'Late',\n",
       " '30',\n",
       " ',',\n",
       " '57',\n",
       " ',',\n",
       " 'Taurus',\n",
       " '.',\n",
       " 'Into',\n",
       " 'fitness',\n",
       " ',',\n",
       " 'cafe',\n",
       " ',',\n",
       " 'movie',\n",
       " ',',\n",
       " 'dinner',\n",
       " 'party',\n",
       " '.',\n",
       " 'Seeks',\n",
       " 'out',\n",
       " 'there',\n",
       " 'female',\n",
       " 'for',\n",
       " 'friendship',\n",
       " 'and',\n",
       " 'fun',\n",
       " '.',\n",
       " 'AUSSIE',\n",
       " '39',\n",
       " 'Solid',\n",
       " 'build',\n",
       " ',',\n",
       " 'like',\n",
       " 'music',\n",
       " ',',\n",
       " 'movie',\n",
       " ',',\n",
       " 'walk',\n",
       " 'on',\n",
       " 'the',\n",
       " 'beach',\n",
       " ',',\n",
       " 'single',\n",
       " ',',\n",
       " 'would',\n",
       " 'like',\n",
       " 'to',\n",
       " 'meet',\n",
       " 'lady',\n",
       " 'for',\n",
       " 'friendship',\n",
       " 'view',\n",
       " 'relationship',\n",
       " '.',\n",
       " 'AUSTRALIAN',\n",
       " 'FATHER',\n",
       " '58',\n",
       " 'With',\n",
       " '11',\n",
       " 'y',\n",
       " '.',\n",
       " 'o',\n",
       " '.',\n",
       " 'son',\n",
       " ',',\n",
       " 'living',\n",
       " 'with',\n",
       " 'me',\n",
       " '.',\n",
       " 'Seeks',\n",
       " 'nice',\n",
       " ',',\n",
       " 'caring',\n",
       " 'lady',\n",
       " 'who',\n",
       " 'like',\n",
       " 'child',\n",
       " 'for',\n",
       " 'permanent',\n",
       " 're',\n",
       " 'lationship',\n",
       " 'in',\n",
       " 'coastal',\n",
       " 'town',\n",
       " 'on',\n",
       " 'Eyre',\n",
       " 'Peninsula',\n",
       " '.',\n",
       " 'Age',\n",
       " 'open',\n",
       " 'to',\n",
       " '55',\n",
       " '.',\n",
       " 'AUSTRALIAN',\n",
       " ',',\n",
       " 'SLIM',\n",
       " ',',\n",
       " 'FUN',\n",
       " '5',\n",
       " 'ft',\n",
       " '.',\n",
       " '8',\n",
       " '.',\n",
       " 'Enjoy',\n",
       " 'BBQs',\n",
       " ',',\n",
       " 'sport',\n",
       " ',',\n",
       " 'fishing',\n",
       " ',',\n",
       " 'going',\n",
       " 'out',\n",
       " 'for',\n",
       " 'meal',\n",
       " '&',\n",
       " 'c',\n",
       " '.',\n",
       " 'Fun',\n",
       " 'to',\n",
       " 'be',\n",
       " 'with',\n",
       " '.',\n",
       " 'Looking',\n",
       " 'for',\n",
       " 'a',\n",
       " 'com',\n",
       " 'panion',\n",
       " ',',\n",
       " 'aged',\n",
       " 'between',\n",
       " '35',\n",
       " '-',\n",
       " '50',\n",
       " '.',\n",
       " 'Must',\n",
       " 'be',\n",
       " 'genuine',\n",
       " 'and',\n",
       " 'good',\n",
       " 'fun',\n",
       " '.',\n",
       " 'Possible',\n",
       " 'relationship',\n",
       " '.',\n",
       " 'BEAUTIFUL',\n",
       " ',',\n",
       " 'INTELLIGENT',\n",
       " 'CARING',\n",
       " ',',\n",
       " 'MUSICAL',\n",
       " 'Shy',\n",
       " ',',\n",
       " 'late',\n",
       " '20',\n",
       " ',',\n",
       " 'size',\n",
       " '12',\n",
       " ',',\n",
       " 'long',\n",
       " 'blonde',\n",
       " 'hair',\n",
       " 'and',\n",
       " 'like',\n",
       " 'to',\n",
       " 'drink',\n",
       " 'Guiness',\n",
       " '.',\n",
       " 'If',\n",
       " 'this',\n",
       " 'is',\n",
       " 'you',\n",
       " 'then',\n",
       " 'I',\n",
       " 'want',\n",
       " 'you',\n",
       " '.',\n",
       " 'BLONDE',\n",
       " 'HAIR',\n",
       " ',',\n",
       " 'BLUE',\n",
       " 'EYES',\n",
       " 'Medium',\n",
       " 'build',\n",
       " ',',\n",
       " 'Im',\n",
       " 'in',\n",
       " 'my',\n",
       " 'early',\n",
       " '30',\n",
       " '.',\n",
       " 'Am',\n",
       " 'honest',\n",
       " ',',\n",
       " 'caring',\n",
       " ',',\n",
       " 'like',\n",
       " 'fishing',\n",
       " ',',\n",
       " 'animal',\n",
       " ',',\n",
       " 'golf',\n",
       " ',',\n",
       " 'bike',\n",
       " 'riding',\n",
       " ',',\n",
       " 'TV',\n",
       " 'and',\n",
       " 'DVDs',\n",
       " ',',\n",
       " 'quiet',\n",
       " 'night',\n",
       " 'at',\n",
       " 'home',\n",
       " ',',\n",
       " 'kissing',\n",
       " 'and',\n",
       " 'cuddling',\n",
       " 'up',\n",
       " 'to',\n",
       " 'a',\n",
       " 'special',\n",
       " 'person',\n",
       " 'in',\n",
       " 'my',\n",
       " 'life',\n",
       " '.',\n",
       " 'Looking',\n",
       " 'for',\n",
       " 'a',\n",
       " 'caring',\n",
       " ',',\n",
       " 'honest',\n",
       " 'lady',\n",
       " 'for',\n",
       " 'friendship',\n",
       " 'to',\n",
       " 'relationship',\n",
       " '.',\n",
       " 'BUSINESSMAN',\n",
       " '60',\n",
       " \"''\",\n",
       " 'ish',\n",
       " 'Looking',\n",
       " 'for',\n",
       " 'lady',\n",
       " ',',\n",
       " 'non',\n",
       " '-',\n",
       " 'smoker',\n",
       " ',',\n",
       " '56',\n",
       " 'or',\n",
       " 'taller',\n",
       " 'with',\n",
       " 'business',\n",
       " 'outlook',\n",
       " ',',\n",
       " 'no',\n",
       " 'tie',\n",
       " ',',\n",
       " 'be',\n",
       " 'prepared',\n",
       " 'to',\n",
       " 'travel',\n",
       " 'and',\n",
       " 'enjoy',\n",
       " 'outdoor',\n",
       " 'sport',\n",
       " '(',\n",
       " 'car',\n",
       " ',',\n",
       " 'boat',\n",
       " 'etc',\n",
       " '.),',\n",
       " 'wining',\n",
       " '/',\n",
       " 'dining',\n",
       " '.',\n",
       " 'Must',\n",
       " 'have',\n",
       " 's',\n",
       " '.',\n",
       " 'o',\n",
       " '.',\n",
       " 'h',\n",
       " '.',\n",
       " 'and',\n",
       " 'have',\n",
       " 'modern',\n",
       " 'outlook',\n",
       " '.',\n",
       " 'CUDDLY',\n",
       " 'FULL',\n",
       " 'FIGURED',\n",
       " 'LADY',\n",
       " '50',\n",
       " 'plus',\n",
       " 'sought',\n",
       " 'by',\n",
       " 'Australian',\n",
       " 'gent',\n",
       " ',',\n",
       " 'early',\n",
       " '60',\n",
       " ',',\n",
       " 'financially',\n",
       " 'secure',\n",
       " ',',\n",
       " 'non',\n",
       " '-',\n",
       " 'drinker',\n",
       " ',',\n",
       " 'non',\n",
       " 'smoker',\n",
       " ',',\n",
       " 'for',\n",
       " 'permanent',\n",
       " 'relationship',\n",
       " '.',\n",
       " 'FIT',\n",
       " 'ACTIVE',\n",
       " 'EASYGOING',\n",
       " '50',\n",
       " 'y',\n",
       " '.',\n",
       " 'o',\n",
       " '.',\n",
       " 'male',\n",
       " ',',\n",
       " '6',\n",
       " 'ft',\n",
       " '2',\n",
       " ',',\n",
       " 'med',\n",
       " '.',\n",
       " 'build',\n",
       " ',',\n",
       " 'fit',\n",
       " 'and',\n",
       " 'healthy',\n",
       " ',',\n",
       " 'fully',\n",
       " 'employed',\n",
       " 'no',\n",
       " 'tie',\n",
       " ',',\n",
       " 'non',\n",
       " 'smoker',\n",
       " ',',\n",
       " 'light',\n",
       " 'drinker',\n",
       " '.',\n",
       " 'Seeking',\n",
       " 'female',\n",
       " 'friend',\n",
       " ',',\n",
       " '40',\n",
       " ',',\n",
       " 'attractive',\n",
       " '5',\n",
       " 'ft',\n",
       " '5',\n",
       " '+.',\n",
       " 'Med',\n",
       " '.',\n",
       " 'to',\n",
       " 'slim',\n",
       " 'build',\n",
       " '.',\n",
       " 'View',\n",
       " 'towards',\n",
       " 'a',\n",
       " 'permanent',\n",
       " 'relationship',\n",
       " '.',\n",
       " 'Give',\n",
       " 'me',\n",
       " 'a',\n",
       " 'call',\n",
       " 'let',\n",
       " 'have',\n",
       " 'a',\n",
       " 'chat',\n",
       " '.',\n",
       " 'GENUINE',\n",
       " 'AND',\n",
       " 'HONEST',\n",
       " 'Hi',\n",
       " 'Im',\n",
       " '44',\n",
       " 'with',\n",
       " 'a',\n",
       " 'good',\n",
       " 'sense',\n",
       " 'of',\n",
       " 'humour',\n",
       " ',',\n",
       " 'am',\n",
       " 'romantic',\n",
       " 'and',\n",
       " 'love',\n",
       " 'drive',\n",
       " ',',\n",
       " 'fishing',\n",
       " ',',\n",
       " 'camping',\n",
       " 'and',\n",
       " 'music',\n",
       " '.',\n",
       " 'Love',\n",
       " 'my',\n",
       " '2',\n",
       " 'kid',\n",
       " '.',\n",
       " 'Am',\n",
       " 'looking',\n",
       " 'for',\n",
       " 'a',\n",
       " 'lady',\n",
       " 'with',\n",
       " 'similar',\n",
       " 'interest',\n",
       " ',',\n",
       " 'aged',\n",
       " 'between',\n",
       " '38',\n",
       " '-',\n",
       " '45',\n",
       " 'for',\n",
       " 'friendship',\n",
       " '/',\n",
       " 'possible',\n",
       " 'relationship',\n",
       " '.',\n",
       " 'GENUINE',\n",
       " 'ATTRACTIVE',\n",
       " 'MAN',\n",
       " '40',\n",
       " 'y',\n",
       " '.',\n",
       " 'o',\n",
       " '.,',\n",
       " 'no',\n",
       " 'tie',\n",
       " ',',\n",
       " 'secure',\n",
       " ',',\n",
       " '5',\n",
       " 'ft',\n",
       " '.',\n",
       " '9',\n",
       " ',',\n",
       " 'slim',\n",
       " 'build',\n",
       " '.',\n",
       " 'I',\n",
       " 'enjoy',\n",
       " 'outdoors',\n",
       " ',',\n",
       " 'gym',\n",
       " ',',\n",
       " 'beach',\n",
       " ',',\n",
       " 'country',\n",
       " 'drive',\n",
       " 'and',\n",
       " 'quiet',\n",
       " 'night',\n",
       " 'at',\n",
       " 'home',\n",
       " '.',\n",
       " 'Seeking',\n",
       " 'an',\n",
       " 'honest',\n",
       " ',',\n",
       " 'caring',\n",
       " 'woman',\n",
       " ',',\n",
       " 'slim',\n",
       " 'or',\n",
       " 'med',\n",
       " '.',\n",
       " 'build',\n",
       " ',',\n",
       " 'who',\n",
       " 'enjoys',\n",
       " 'the',\n",
       " 'simple',\n",
       " 'thing',\n",
       " 'in',\n",
       " 'life',\n",
       " '.',\n",
       " 'Age',\n",
       " 'open',\n",
       " '.',\n",
       " 'GOOD',\n",
       " 'LISTENER',\n",
       " 'Well',\n",
       " 'educated',\n",
       " ',',\n",
       " 'tall',\n",
       " ',',\n",
       " 'blue',\n",
       " 'eye',\n",
       " ',',\n",
       " 'brown',\n",
       " 'hair',\n",
       " ',',\n",
       " 'Mid',\n",
       " '20',\n",
       " ',',\n",
       " 'good',\n",
       " 'looking',\n",
       " ',',\n",
       " 'honest',\n",
       " 'n',\n",
       " '/',\n",
       " 'smoker',\n",
       " '.',\n",
       " 'Likes',\n",
       " 'movie',\n",
       " ',',\n",
       " 'drive',\n",
       " ',',\n",
       " 'night',\n",
       " 'in',\n",
       " ',',\n",
       " 'look',\n",
       " 'not',\n",
       " 'important',\n",
       " ',',\n",
       " 'nor',\n",
       " 'distance',\n",
       " '/',\n",
       " 'speed',\n",
       " '.',\n",
       " 'Looking',\n",
       " 'for',\n",
       " 'someone',\n",
       " 'to',\n",
       " 'complete',\n",
       " 'my',\n",
       " 'social',\n",
       " 'circle',\n",
       " '.',\n",
       " 'Age',\n",
       " 'open',\n",
       " ',',\n",
       " 'friendship',\n",
       " '/',\n",
       " 'relationship',\n",
       " '.',\n",
       " 'GREEK',\n",
       " '/',\n",
       " 'AUST',\n",
       " '.',\n",
       " 'MALE',\n",
       " 'Early',\n",
       " '30',\n",
       " ',',\n",
       " '57',\n",
       " ',',\n",
       " 'slim',\n",
       " 'build',\n",
       " ',',\n",
       " 'non',\n",
       " '-',\n",
       " 'smoker',\n",
       " ',',\n",
       " 'enjoys',\n",
       " 'dining',\n",
       " 'out',\n",
       " ',',\n",
       " 'movie',\n",
       " ',',\n",
       " 'bbqs',\n",
       " '.,',\n",
       " 'football',\n",
       " 'and',\n",
       " 'quiet',\n",
       " 'night',\n",
       " 'at',\n",
       " 'home',\n",
       " '.',\n",
       " 'Seeking',\n",
       " 'slim',\n",
       " ',',\n",
       " 'attractive',\n",
       " 'female',\n",
       " ',',\n",
       " '20',\n",
       " '-',\n",
       " '30',\n",
       " 'with',\n",
       " 'similar',\n",
       " 'interest',\n",
       " 'for',\n",
       " 'friend',\n",
       " 'ship',\n",
       " '/',\n",
       " 'relationship',\n",
       " '.',\n",
       " 'HANDSOME',\n",
       " 'BUSINESSMAN',\n",
       " 'Tall',\n",
       " ',',\n",
       " 'slim',\n",
       " ',',\n",
       " 'independant',\n",
       " ',',\n",
       " 'under',\n",
       " 'standing',\n",
       " ',',\n",
       " 'mid',\n",
       " '50',\n",
       " ',',\n",
       " 'looking',\n",
       " 'for',\n",
       " ...]"
      ]
     },
     "execution_count": 93,
     "metadata": {},
     "output_type": "execute_result"
    }
   ],
   "source": [
    "lemmatized_words"
   ]
  },
  {
   "cell_type": "code",
   "execution_count": 94,
   "metadata": {},
   "outputs": [],
   "source": [
    "new_text = nltk.Text(lemmatized_words)"
   ]
  },
  {
   "cell_type": "code",
   "execution_count": 95,
   "metadata": {},
   "outputs": [
    {
     "name": "stdout",
     "output_type": "stream",
     "text": [
      "medium build; social drinker; non smoker; quiet night; long term;\n",
      "would like; age open; easy going; financially secure; Would like; fun\n",
      "time; similar interest; Age open; weekend away; well presented; never\n",
      "married; single mum; permanent relationship; year old; slim build\n"
     ]
    }
   ],
   "source": [
    "new_text.collocations()"
   ]
  },
  {
   "cell_type": "code",
   "execution_count": null,
   "metadata": {},
   "outputs": [],
   "source": []
  }
 ],
 "metadata": {
  "kernelspec": {
   "display_name": "Python 3",
   "language": "python",
   "name": "python3"
  },
  "language_info": {
   "codemirror_mode": {
    "name": "ipython",
    "version": 3
   },
   "file_extension": ".py",
   "mimetype": "text/x-python",
   "name": "python",
   "nbconvert_exporter": "python",
   "pygments_lexer": "ipython3",
   "version": "3.8.5"
  }
 },
 "nbformat": 4,
 "nbformat_minor": 4
}
